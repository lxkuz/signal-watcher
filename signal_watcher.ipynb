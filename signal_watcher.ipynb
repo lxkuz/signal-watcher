{
 "cells": [
  {
   "cell_type": "markdown",
   "id": "38cb18c1-c842-4e19-ac3d-3983c0d3621a",
   "metadata": {},
   "source": [
    "Сначала читаем датасет\n",
    "\n"
   ]
  },
  {
   "cell_type": "code",
   "execution_count": 17,
   "id": "39f97c00-7486-4a99-b938-0326b285e999",
   "metadata": {},
   "outputs": [
    {
     "data": {
      "text/html": [
       "<div>\n",
       "<style scoped>\n",
       "    .dataframe tbody tr th:only-of-type {\n",
       "        vertical-align: middle;\n",
       "    }\n",
       "\n",
       "    .dataframe tbody tr th {\n",
       "        vertical-align: top;\n",
       "    }\n",
       "\n",
       "    .dataframe thead th {\n",
       "        text-align: right;\n",
       "    }\n",
       "</style>\n",
       "<table border=\"1\" class=\"dataframe\">\n",
       "  <thead>\n",
       "    <tr style=\"text-align: right;\">\n",
       "      <th></th>\n",
       "      <th>s1</th>\n",
       "      <th>s2</th>\n",
       "      <th>s3</th>\n",
       "      <th>s4</th>\n",
       "      <th>s5</th>\n",
       "      <th>s6</th>\n",
       "      <th>s7</th>\n",
       "      <th>s8</th>\n",
       "      <th>s9</th>\n",
       "      <th>s10</th>\n",
       "      <th>...</th>\n",
       "      <th>spike91</th>\n",
       "      <th>spike92</th>\n",
       "      <th>spike93</th>\n",
       "      <th>spike94</th>\n",
       "      <th>spike95</th>\n",
       "      <th>spike96</th>\n",
       "      <th>spike97</th>\n",
       "      <th>spike98</th>\n",
       "      <th>spike99</th>\n",
       "      <th>spike100</th>\n",
       "    </tr>\n",
       "  </thead>\n",
       "  <tbody>\n",
       "    <tr>\n",
       "      <th>0</th>\n",
       "      <td>50</td>\n",
       "      <td>54</td>\n",
       "      <td>50</td>\n",
       "      <td>51</td>\n",
       "      <td>52</td>\n",
       "      <td>49</td>\n",
       "      <td>54</td>\n",
       "      <td>48</td>\n",
       "      <td>50</td>\n",
       "      <td>53</td>\n",
       "      <td>...</td>\n",
       "      <td>0</td>\n",
       "      <td>0</td>\n",
       "      <td>0</td>\n",
       "      <td>0</td>\n",
       "      <td>0</td>\n",
       "      <td>0</td>\n",
       "      <td>0</td>\n",
       "      <td>0</td>\n",
       "      <td>0</td>\n",
       "      <td>0</td>\n",
       "    </tr>\n",
       "    <tr>\n",
       "      <th>1</th>\n",
       "      <td>50</td>\n",
       "      <td>54</td>\n",
       "      <td>50</td>\n",
       "      <td>51</td>\n",
       "      <td>52</td>\n",
       "      <td>49</td>\n",
       "      <td>54</td>\n",
       "      <td>48</td>\n",
       "      <td>50</td>\n",
       "      <td>53</td>\n",
       "      <td>...</td>\n",
       "      <td>0</td>\n",
       "      <td>0</td>\n",
       "      <td>0</td>\n",
       "      <td>0</td>\n",
       "      <td>0</td>\n",
       "      <td>0</td>\n",
       "      <td>0</td>\n",
       "      <td>0</td>\n",
       "      <td>0</td>\n",
       "      <td>0</td>\n",
       "    </tr>\n",
       "    <tr>\n",
       "      <th>2</th>\n",
       "      <td>47</td>\n",
       "      <td>54</td>\n",
       "      <td>52</td>\n",
       "      <td>52</td>\n",
       "      <td>48</td>\n",
       "      <td>47</td>\n",
       "      <td>50</td>\n",
       "      <td>53</td>\n",
       "      <td>49</td>\n",
       "      <td>51</td>\n",
       "      <td>...</td>\n",
       "      <td>0</td>\n",
       "      <td>0</td>\n",
       "      <td>0</td>\n",
       "      <td>0</td>\n",
       "      <td>0</td>\n",
       "      <td>0</td>\n",
       "      <td>0</td>\n",
       "      <td>0</td>\n",
       "      <td>0</td>\n",
       "      <td>0</td>\n",
       "    </tr>\n",
       "    <tr>\n",
       "      <th>3</th>\n",
       "      <td>47</td>\n",
       "      <td>54</td>\n",
       "      <td>52</td>\n",
       "      <td>52</td>\n",
       "      <td>48</td>\n",
       "      <td>47</td>\n",
       "      <td>50</td>\n",
       "      <td>53</td>\n",
       "      <td>49</td>\n",
       "      <td>51</td>\n",
       "      <td>...</td>\n",
       "      <td>0</td>\n",
       "      <td>0</td>\n",
       "      <td>0</td>\n",
       "      <td>0</td>\n",
       "      <td>0</td>\n",
       "      <td>0</td>\n",
       "      <td>0</td>\n",
       "      <td>0</td>\n",
       "      <td>0</td>\n",
       "      <td>0</td>\n",
       "    </tr>\n",
       "    <tr>\n",
       "      <th>4</th>\n",
       "      <td>52</td>\n",
       "      <td>52</td>\n",
       "      <td>50</td>\n",
       "      <td>50</td>\n",
       "      <td>49</td>\n",
       "      <td>51</td>\n",
       "      <td>50</td>\n",
       "      <td>48</td>\n",
       "      <td>53</td>\n",
       "      <td>51</td>\n",
       "      <td>...</td>\n",
       "      <td>0</td>\n",
       "      <td>0</td>\n",
       "      <td>0</td>\n",
       "      <td>0</td>\n",
       "      <td>0</td>\n",
       "      <td>0</td>\n",
       "      <td>0</td>\n",
       "      <td>0</td>\n",
       "      <td>0</td>\n",
       "      <td>0</td>\n",
       "    </tr>\n",
       "  </tbody>\n",
       "</table>\n",
       "<p>5 rows × 200 columns</p>\n",
       "</div>"
      ],
      "text/plain": [
       "   s1  s2  s3  s4  s5  s6  s7  s8  s9  s10  ...  spike91  spike92  spike93  \\\n",
       "0  50  54  50  51  52  49  54  48  50   53  ...        0        0        0   \n",
       "1  50  54  50  51  52  49  54  48  50   53  ...        0        0        0   \n",
       "2  47  54  52  52  48  47  50  53  49   51  ...        0        0        0   \n",
       "3  47  54  52  52  48  47  50  53  49   51  ...        0        0        0   \n",
       "4  52  52  50  50  49  51  50  48  53   51  ...        0        0        0   \n",
       "\n",
       "   spike94  spike95  spike96  spike97  spike98  spike99  spike100  \n",
       "0        0        0        0        0        0        0         0  \n",
       "1        0        0        0        0        0        0         0  \n",
       "2        0        0        0        0        0        0         0  \n",
       "3        0        0        0        0        0        0         0  \n",
       "4        0        0        0        0        0        0         0  \n",
       "\n",
       "[5 rows x 200 columns]"
      ]
     },
     "execution_count": 17,
     "metadata": {},
     "output_type": "execute_result"
    }
   ],
   "source": [
    "import pandas as pd\n",
    "\n",
    "df = pd.read_csv('data/signal_200000.csv')\n",
    "df.head()\n",
    "\n"
   ]
  },
  {
   "cell_type": "markdown",
   "id": "fc8e0d12-810d-45a1-8f51-9ead1004d444",
   "metadata": {},
   "source": [
    "Строим график для примера одной из колонок"
   ]
  },
  {
   "cell_type": "code",
   "execution_count": 18,
   "id": "bc4c0a93-cc65-4f69-9537-cacbb2c12b84",
   "metadata": {},
   "outputs": [
    {
     "data": {
      "text/plain": [
       "<Axes: >"
      ]
     },
     "execution_count": 18,
     "metadata": {},
     "output_type": "execute_result"
    },
    {
     "data": {
      "image/png": "[encoded data removed]",
      "text/plain": [
       "<Figure size 640x480 with 1 Axes>"
      ]
     },
     "metadata": {},
     "output_type": "display_data"
    }
   ],
   "source": [
    "dataset = df.values\n",
    "s = pd.Series(dataset[1][0:100])\n",
    "s.plot.line() "
   ]
  },
  {
   "cell_type": "markdown",
   "id": "4f3baea7-c399-4c97-8647-b0133c91eb23",
   "metadata": {},
   "source": [
    "Создаем нейронку из 100 нейронов"
   ]
  },
  {
   "cell_type": "code",
   "execution_count": null,
   "id": "648cc9ed-4cd6-4bfe-9ef9-55de7b74a4ee",
   "metadata": {},
   "outputs": [],
   "source": []
  },
  {
   "cell_type": "code",
   "execution_count": 19,
   "id": "897a26e0-8290-458f-8819-86eaf3250b7f",
   "metadata": {},
   "outputs": [
    {
     "name": "stdout",
     "output_type": "stream",
     "text": [
      "[[50 54 50 ... 50 47 48]\n",
      " [50 54 50 ... 50 47 48]\n",
      " [47 54 52 ... 55 53 47]\n",
      " ...\n",
      " [53 46 53 ... 53 50 50]\n",
      " [52 48 52 ... 49 51 52]\n",
      " [55 54 62 ... 49 51 52]]\n"
     ]
    }
   ],
   "source": [
    "X = dataset[:,0:100]\n",
    "print(X)"
   ]
  },
  {
   "cell_type": "code",
   "execution_count": 20,
   "id": "512620a9-c3e4-4bad-86e9-636a99e1fc24",
   "metadata": {},
   "outputs": [
    {
     "name": "stdout",
     "output_type": "stream",
     "text": [
      "[[0 0 0 ... 0 0 0]\n",
      " [0 0 0 ... 0 0 0]\n",
      " [0 0 0 ... 0 0 0]\n",
      " ...\n",
      " [0 0 0 ... 0 0 0]\n",
      " [0 0 0 ... 0 0 0]\n",
      " [0 0 1 ... 0 0 0]]\n"
     ]
    }
   ],
   "source": [
    "Y = dataset[:,100:]\n",
    "print(Y)"
   ]
  },
  {
   "cell_type": "code",
   "execution_count": 21,
   "id": "5ff28474-ff9c-4091-bfab-be297fabe036",
   "metadata": {},
   "outputs": [],
   "source": [
    "from sklearn import preprocessing"
   ]
  },
  {
   "cell_type": "code",
   "execution_count": 22,
   "id": "7b6171ae-2d67-4001-b613-d35ecf4660e9",
   "metadata": {},
   "outputs": [],
   "source": [
    "min_max_scaler = preprocessing.MinMaxScaler()\n",
    "X_scale = min_max_scaler.fit_transform(X)"
   ]
  },
  {
   "cell_type": "code",
   "execution_count": 23,
   "id": "d0c67780-bdce-496e-abac-1b3ab5543a80",
   "metadata": {},
   "outputs": [
    {
     "data": {
      "text/plain": [
       "array([[0.21052632, 0.42105263, 0.21052632, ..., 0.21052632, 0.05263158,\n",
       "        0.10526316],\n",
       "       [0.21052632, 0.42105263, 0.21052632, ..., 0.21052632, 0.05263158,\n",
       "        0.10526316],\n",
       "       [0.05263158, 0.42105263, 0.31578947, ..., 0.47368421, 0.36842105,\n",
       "        0.05263158],\n",
       "       ...,\n",
       "       [0.36842105, 0.        , 0.36842105, ..., 0.36842105, 0.21052632,\n",
       "        0.21052632],\n",
       "       [0.31578947, 0.10526316, 0.31578947, ..., 0.15789474, 0.26315789,\n",
       "        0.31578947],\n",
       "       [0.47368421, 0.42105263, 0.84210526, ..., 0.15789474, 0.26315789,\n",
       "        0.31578947]])"
      ]
     },
     "execution_count": 23,
     "metadata": {},
     "output_type": "execute_result"
    }
   ],
   "source": [
    "X_scale"
   ]
  },
  {
   "cell_type": "code",
   "execution_count": 24,
   "id": "814c50df-a2da-486d-988c-0f9b2d810937",
   "metadata": {},
   "outputs": [],
   "source": [
    "from sklearn.model_selection import train_test_split"
   ]
  },
  {
   "cell_type": "code",
   "execution_count": 25,
   "id": "3d014d70-0ce2-4fba-ad85-6a185809a642",
   "metadata": {},
   "outputs": [],
   "source": [
    "X_train, X_val_and_test, Y_train, Y_val_and_test = train_test_split(X_scale, Y, test_size=0.3)"
   ]
  },
  {
   "cell_type": "code",
   "execution_count": 26,
   "id": "f5320280-6720-481e-b1f0-299441ed7b81",
   "metadata": {},
   "outputs": [
    {
     "name": "stdout",
     "output_type": "stream",
     "text": [
      "(280000, 100) (60000, 100) (60000, 100) (280000, 100) (60000, 100) (60000, 100)\n"
     ]
    }
   ],
   "source": [
    "X_val, X_test, Y_val, Y_test = train_test_split(X_val_and_test, Y_val_and_test, test_size=0.5)\n",
    "print(X_train.shape, X_val.shape, X_test.shape, Y_train.shape, Y_val.shape, Y_test.shape)"
   ]
  },
  {
   "cell_type": "code",
   "execution_count": 50,
   "id": "cac50535-47d3-497e-8821-91c87067e6f9",
   "metadata": {},
   "outputs": [],
   "source": [
    "from keras.models import Sequential\n",
    "from keras.layers import Dense"
   ]
  },
  {
   "cell_type": "code",
   "execution_count": 55,
   "id": "e5669ac8-6176-41a5-844e-caf17790cf0f",
   "metadata": {},
   "outputs": [],
   "source": [
    "model = Sequential([\n",
    "    Dense(100, activation='relu', input_shape=(100,)),\n",
    "    Dense(100, activation='softmax'),\n",
    "])"
   ]
  },
  {
   "cell_type": "code",
   "execution_count": 56,
   "id": "274494d4-e217-4d5b-99ca-4a656636e53d",
   "metadata": {},
   "outputs": [],
   "source": [
    "model.compile(optimizer='adam',\n",
    "              loss='binary_crossentropy',\n",
    "              metrics=['accuracy'])"
   ]
  },
  {
   "cell_type": "markdown",
   "id": "b908f63c-2c31-4cda-9b41-abfbd4098eca",
   "metadata": {},
   "source": [
    "Далее мы тренируем сетку нужно поиграться с размерами бача и чаислом эпох"
   ]
  },
  {
   "cell_type": "code",
   "execution_count": 57,
   "id": "412334d4-01e4-40b1-a04a-5835c6177b46",
   "metadata": {
    "scrolled": true
   },
   "outputs": [
    {
     "name": "stdout",
     "output_type": "stream",
     "text": [
      "Epoch 1/100\n",
      "\u001b[1m112/112\u001b[0m \u001b[32m━━━━━━━━━━━━━━━━━━━━\u001b[0m\u001b[37m\u001b[0m \u001b[1m1s\u001b[0m 9ms/step - accuracy: 0.0054 - loss: 0.3564 - val_accuracy: 0.0051 - val_loss: 0.0326\n",
      "Epoch 2/100\n",
      "\u001b[1m112/112\u001b[0m \u001b[32m━━━━━━━━━━━━━━━━━━━━\u001b[0m\u001b[37m\u001b[0m \u001b[1m1s\u001b[0m 8ms/step - accuracy: 0.0055 - loss: 0.0325 - val_accuracy: 0.0089 - val_loss: 0.0324\n",
      "Epoch 3/100\n",
      "\u001b[1m112/112\u001b[0m \u001b[32m━━━━━━━━━━━━━━━━━━━━\u001b[0m\u001b[37m\u001b[0m \u001b[1m1s\u001b[0m 7ms/step - accuracy: 0.0093 - loss: 0.0324 - val_accuracy: 0.0165 - val_loss: 0.0322\n",
      "Epoch 4/100\n",
      "\u001b[1m112/112\u001b[0m \u001b[32m━━━━━━━━━━━━━━━━━━━━\u001b[0m\u001b[37m\u001b[0m \u001b[1m1s\u001b[0m 7ms/step - accuracy: 0.0192 - loss: 0.0321 - val_accuracy: 0.0265 - val_loss: 0.0317\n",
      "Epoch 5/100\n",
      "\u001b[1m112/112\u001b[0m \u001b[32m━━━━━━━━━━━━━━━━━━━━\u001b[0m\u001b[37m\u001b[0m \u001b[1m1s\u001b[0m 7ms/step - accuracy: 0.0363 - loss: 0.0314 - val_accuracy: 0.0507 - val_loss: 0.0304\n",
      "Epoch 6/100\n",
      "\u001b[1m112/112\u001b[0m \u001b[32m━━━━━━━━━━━━━━━━━━━━\u001b[0m\u001b[37m\u001b[0m \u001b[1m1s\u001b[0m 7ms/step - accuracy: 0.0610 - loss: 0.0299 - val_accuracy: 0.0770 - val_loss: 0.0285\n",
      "Epoch 7/100\n",
      "\u001b[1m112/112\u001b[0m \u001b[32m━━━━━━━━━━━━━━━━━━━━\u001b[0m\u001b[37m\u001b[0m \u001b[1m1s\u001b[0m 7ms/step - accuracy: 0.0855 - loss: 0.0279 - val_accuracy: 0.1052 - val_loss: 0.0263\n",
      "Epoch 8/100\n",
      "\u001b[1m112/112\u001b[0m \u001b[32m━━━━━━━━━━━━━━━━━━━━\u001b[0m\u001b[37m\u001b[0m \u001b[1m1s\u001b[0m 7ms/step - accuracy: 0.1171 - loss: 0.0256 - val_accuracy: 0.1392 - val_loss: 0.0239\n",
      "Epoch 9/100\n",
      "\u001b[1m112/112\u001b[0m \u001b[32m━━━━━━━━━━━━━━━━━━━━\u001b[0m\u001b[37m\u001b[0m \u001b[1m1s\u001b[0m 7ms/step - accuracy: 0.1504 - loss: 0.0233 - val_accuracy: 0.1707 - val_loss: 0.0215\n",
      "Epoch 10/100\n",
      "\u001b[1m112/112\u001b[0m \u001b[32m━━━━━━━━━━━━━━━━━━━━\u001b[0m\u001b[37m\u001b[0m \u001b[1m1s\u001b[0m 7ms/step - accuracy: 0.1810 - loss: 0.0210 - val_accuracy: 0.2005 - val_loss: 0.0197\n",
      "Epoch 11/100\n",
      "\u001b[1m112/112\u001b[0m \u001b[32m━━━━━━━━━━━━━━━━━━━━\u001b[0m\u001b[37m\u001b[0m \u001b[1m1s\u001b[0m 7ms/step - accuracy: 0.2037 - loss: 0.0193 - val_accuracy: 0.2182 - val_loss: 0.0182\n",
      "Epoch 12/100\n",
      "\u001b[1m112/112\u001b[0m \u001b[32m━━━━━━━━━━━━━━━━━━━━\u001b[0m\u001b[37m\u001b[0m \u001b[1m1s\u001b[0m 7ms/step - accuracy: 0.2264 - loss: 0.0178 - val_accuracy: 0.2456 - val_loss: 0.0169\n",
      "Epoch 13/100\n",
      "\u001b[1m112/112\u001b[0m \u001b[32m━━━━━━━━━━━━━━━━━━━━\u001b[0m\u001b[37m\u001b[0m \u001b[1m1s\u001b[0m 7ms/step - accuracy: 0.2538 - loss: 0.0167 - val_accuracy: 0.2590 - val_loss: 0.0160\n",
      "Epoch 14/100\n",
      "\u001b[1m112/112\u001b[0m \u001b[32m━━━━━━━━━━━━━━━━━━━━\u001b[0m\u001b[37m\u001b[0m \u001b[1m1s\u001b[0m 7ms/step - accuracy: 0.2691 - loss: 0.0158 - val_accuracy: 0.2796 - val_loss: 0.0153\n",
      "Epoch 15/100\n",
      "\u001b[1m112/112\u001b[0m \u001b[32m━━━━━━━━━━━━━━━━━━━━\u001b[0m\u001b[37m\u001b[0m \u001b[1m1s\u001b[0m 7ms/step - accuracy: 0.2853 - loss: 0.0152 - val_accuracy: 0.2899 - val_loss: 0.0148\n",
      "Epoch 16/100\n",
      "\u001b[1m112/112\u001b[0m \u001b[32m━━━━━━━━━━━━━━━━━━━━\u001b[0m\u001b[37m\u001b[0m \u001b[1m1s\u001b[0m 7ms/step - accuracy: 0.2969 - loss: 0.0146 - val_accuracy: 0.2970 - val_loss: 0.0144\n",
      "Epoch 17/100\n",
      "\u001b[1m112/112\u001b[0m \u001b[32m━━━━━━━━━━━━━━━━━━━━\u001b[0m\u001b[37m\u001b[0m \u001b[1m1s\u001b[0m 7ms/step - accuracy: 0.3030 - loss: 0.0142 - val_accuracy: 0.3082 - val_loss: 0.0140\n",
      "Epoch 18/100\n",
      "\u001b[1m112/112\u001b[0m \u001b[32m━━━━━━━━━━━━━━━━━━━━\u001b[0m\u001b[37m\u001b[0m \u001b[1m1s\u001b[0m 7ms/step - accuracy: 0.3135 - loss: 0.0139 - val_accuracy: 0.3127 - val_loss: 0.0137\n",
      "Epoch 19/100\n",
      "\u001b[1m112/112\u001b[0m \u001b[32m━━━━━━━━━━━━━━━━━━━━\u001b[0m\u001b[37m\u001b[0m \u001b[1m1s\u001b[0m 7ms/step - accuracy: 0.3205 - loss: 0.0136 - val_accuracy: 0.3266 - val_loss: 0.0135\n",
      "Epoch 20/100\n",
      "\u001b[1m112/112\u001b[0m \u001b[32m━━━━━━━━━━━━━━━━━━━━\u001b[0m\u001b[37m\u001b[0m \u001b[1m1s\u001b[0m 7ms/step - accuracy: 0.3265 - loss: 0.0133 - val_accuracy: 0.3276 - val_loss: 0.0132\n",
      "Epoch 21/100\n",
      "\u001b[1m112/112\u001b[0m \u001b[32m━━━━━━━━━━━━━━━━━━━━\u001b[0m\u001b[37m\u001b[0m \u001b[1m1s\u001b[0m 8ms/step - accuracy: 0.3352 - loss: 0.0131 - val_accuracy: 0.3303 - val_loss: 0.0130\n",
      "Epoch 22/100\n",
      "\u001b[1m112/112\u001b[0m \u001b[32m━━━━━━━━━━━━━━━━━━━━\u001b[0m\u001b[37m\u001b[0m \u001b[1m1s\u001b[0m 7ms/step - accuracy: 0.3377 - loss: 0.0129 - val_accuracy: 0.3429 - val_loss: 0.0128\n",
      "Epoch 23/100\n",
      "\u001b[1m112/112\u001b[0m \u001b[32m━━━━━━━━━━━━━━━━━━━━\u001b[0m\u001b[37m\u001b[0m \u001b[1m1s\u001b[0m 7ms/step - accuracy: 0.3456 - loss: 0.0126 - val_accuracy: 0.3479 - val_loss: 0.0125\n",
      "Epoch 24/100\n",
      "\u001b[1m112/112\u001b[0m \u001b[32m━━━━━━━━━━━━━━━━━━━━\u001b[0m\u001b[37m\u001b[0m \u001b[1m1s\u001b[0m 7ms/step - accuracy: 0.3530 - loss: 0.0123 - val_accuracy: 0.3573 - val_loss: 0.0122\n",
      "Epoch 25/100\n",
      "\u001b[1m112/112\u001b[0m \u001b[32m━━━━━━━━━━━━━━━━━━━━\u001b[0m\u001b[37m\u001b[0m \u001b[1m1s\u001b[0m 7ms/step - accuracy: 0.3625 - loss: 0.0121 - val_accuracy: 0.3633 - val_loss: 0.0119\n",
      "Epoch 26/100\n",
      "\u001b[1m112/112\u001b[0m \u001b[32m━━━━━━━━━━━━━━━━━━━━\u001b[0m\u001b[37m\u001b[0m \u001b[1m1s\u001b[0m 7ms/step - accuracy: 0.3707 - loss: 0.0117 - val_accuracy: 0.3683 - val_loss: 0.0117\n",
      "Epoch 27/100\n",
      "\u001b[1m112/112\u001b[0m \u001b[32m━━━━━━━━━━━━━━━━━━━━\u001b[0m\u001b[37m\u001b[0m \u001b[1m1s\u001b[0m 7ms/step - accuracy: 0.3743 - loss: 0.0115 - val_accuracy: 0.3760 - val_loss: 0.0115\n",
      "Epoch 28/100\n",
      "\u001b[1m112/112\u001b[0m \u001b[32m━━━━━━━━━━━━━━━━━━━━\u001b[0m\u001b[37m\u001b[0m \u001b[1m1s\u001b[0m 7ms/step - accuracy: 0.3788 - loss: 0.0113 - val_accuracy: 0.3883 - val_loss: 0.0112\n",
      "Epoch 29/100\n",
      "\u001b[1m112/112\u001b[0m \u001b[32m━━━━━━━━━━━━━━━━━━━━\u001b[0m\u001b[37m\u001b[0m \u001b[1m1s\u001b[0m 7ms/step - accuracy: 0.3859 - loss: 0.0111 - val_accuracy: 0.3845 - val_loss: 0.0110\n",
      "Epoch 30/100\n",
      "\u001b[1m112/112\u001b[0m \u001b[32m━━━━━━━━━━━━━━━━━━━━\u001b[0m\u001b[37m\u001b[0m \u001b[1m1s\u001b[0m 7ms/step - accuracy: 0.3921 - loss: 0.0108 - val_accuracy: 0.3876 - val_loss: 0.0108\n",
      "Epoch 31/100\n",
      "\u001b[1m112/112\u001b[0m \u001b[32m━━━━━━━━━━━━━━━━━━━━\u001b[0m\u001b[37m\u001b[0m \u001b[1m1s\u001b[0m 7ms/step - accuracy: 0.3928 - loss: 0.0106 - val_accuracy: 0.3934 - val_loss: 0.0106\n",
      "Epoch 32/100\n",
      "\u001b[1m112/112\u001b[0m \u001b[32m━━━━━━━━━━━━━━━━━━━━\u001b[0m\u001b[37m\u001b[0m \u001b[1m1s\u001b[0m 7ms/step - accuracy: 0.3982 - loss: 0.0105 - val_accuracy: 0.4044 - val_loss: 0.0104\n",
      "Epoch 33/100\n",
      "\u001b[1m112/112\u001b[0m \u001b[32m━━━━━━━━━━━━━━━━━━━━\u001b[0m\u001b[37m\u001b[0m \u001b[1m1s\u001b[0m 7ms/step - accuracy: 0.4047 - loss: 0.0103 - val_accuracy: 0.4019 - val_loss: 0.0102\n",
      "Epoch 34/100\n",
      "\u001b[1m112/112\u001b[0m \u001b[32m━━━━━━━━━━━━━━━━━━━━\u001b[0m\u001b[37m\u001b[0m \u001b[1m1s\u001b[0m 8ms/step - accuracy: 0.4057 - loss: 0.0101 - val_accuracy: 0.4021 - val_loss: 0.0101\n",
      "Epoch 35/100\n",
      "\u001b[1m112/112\u001b[0m \u001b[32m━━━━━━━━━━━━━━━━━━━━\u001b[0m\u001b[37m\u001b[0m \u001b[1m1s\u001b[0m 7ms/step - accuracy: 0.4084 - loss: 0.0100 - val_accuracy: 0.4074 - val_loss: 0.0100\n",
      "Epoch 36/100\n",
      "\u001b[1m112/112\u001b[0m \u001b[32m━━━━━━━━━━━━━━━━━━━━\u001b[0m\u001b[37m\u001b[0m \u001b[1m1s\u001b[0m 8ms/step - accuracy: 0.4125 - loss: 0.0099 - val_accuracy: 0.4175 - val_loss: 0.0098\n",
      "Epoch 37/100\n",
      "\u001b[1m112/112\u001b[0m \u001b[32m━━━━━━━━━━━━━━━━━━━━\u001b[0m\u001b[37m\u001b[0m \u001b[1m1s\u001b[0m 7ms/step - accuracy: 0.4172 - loss: 0.0097 - val_accuracy: 0.4169 - val_loss: 0.0097\n",
      "Epoch 38/100\n",
      "\u001b[1m112/112\u001b[0m \u001b[32m━━━━━━━━━━━━━━━━━━━━\u001b[0m\u001b[37m\u001b[0m \u001b[1m1s\u001b[0m 7ms/step - accuracy: 0.4199 - loss: 0.0096 - val_accuracy: 0.4189 - val_loss: 0.0096\n",
      "Epoch 39/100\n",
      "\u001b[1m112/112\u001b[0m \u001b[32m━━━━━━━━━━━━━━━━━━━━\u001b[0m\u001b[37m\u001b[0m \u001b[1m1s\u001b[0m 7ms/step - accuracy: 0.4221 - loss: 0.0094 - val_accuracy: 0.4195 - val_loss: 0.0094\n",
      "Epoch 40/100\n",
      "\u001b[1m112/112\u001b[0m \u001b[32m━━━━━━━━━━━━━━━━━━━━\u001b[0m\u001b[37m\u001b[0m \u001b[1m1s\u001b[0m 7ms/step - accuracy: 0.4252 - loss: 0.0093 - val_accuracy: 0.4198 - val_loss: 0.0093\n",
      "Epoch 41/100\n",
      "\u001b[1m112/112\u001b[0m \u001b[32m━━━━━━━━━━━━━━━━━━━━\u001b[0m\u001b[37m\u001b[0m \u001b[1m1s\u001b[0m 8ms/step - accuracy: 0.4246 - loss: 0.0091 - val_accuracy: 0.4250 - val_loss: 0.0092\n",
      "Epoch 42/100\n",
      "\u001b[1m112/112\u001b[0m \u001b[32m━━━━━━━━━━━━━━━━━━━━\u001b[0m\u001b[37m\u001b[0m \u001b[1m1s\u001b[0m 7ms/step - accuracy: 0.4269 - loss: 0.0090 - val_accuracy: 0.4289 - val_loss: 0.0090\n",
      "Epoch 43/100\n",
      "\u001b[1m112/112\u001b[0m \u001b[32m━━━━━━━━━━━━━━━━━━━━\u001b[0m\u001b[37m\u001b[0m \u001b[1m1s\u001b[0m 7ms/step - accuracy: 0.4311 - loss: 0.0089 - val_accuracy: 0.4377 - val_loss: 0.0089\n",
      "Epoch 44/100\n",
      "\u001b[1m112/112\u001b[0m \u001b[32m━━━━━━━━━━━━━━━━━━━━\u001b[0m\u001b[37m\u001b[0m \u001b[1m1s\u001b[0m 7ms/step - accuracy: 0.4339 - loss: 0.0088 - val_accuracy: 0.4288 - val_loss: 0.0088\n",
      "Epoch 45/100\n",
      "\u001b[1m112/112\u001b[0m \u001b[32m━━━━━━━━━━━━━━━━━━━━\u001b[0m\u001b[37m\u001b[0m \u001b[1m1s\u001b[0m 7ms/step - accuracy: 0.4346 - loss: 0.0087 - val_accuracy: 0.4366 - val_loss: 0.0087\n",
      "Epoch 46/100\n",
      "\u001b[1m112/112\u001b[0m \u001b[32m━━━━━━━━━━━━━━━━━━━━\u001b[0m\u001b[37m\u001b[0m \u001b[1m1s\u001b[0m 7ms/step - accuracy: 0.4365 - loss: 0.0085 - val_accuracy: 0.4342 - val_loss: 0.0086\n",
      "Epoch 47/100\n",
      "\u001b[1m112/112\u001b[0m \u001b[32m━━━━━━━━━━━━━━━━━━━━\u001b[0m\u001b[37m\u001b[0m \u001b[1m1s\u001b[0m 7ms/step - accuracy: 0.4387 - loss: 0.0084 - val_accuracy: 0.4356 - val_loss: 0.0085\n",
      "Epoch 48/100\n",
      "\u001b[1m112/112\u001b[0m \u001b[32m━━━━━━━━━━━━━━━━━━━━\u001b[0m\u001b[37m\u001b[0m \u001b[1m1s\u001b[0m 7ms/step - accuracy: 0.4417 - loss: 0.0083 - val_accuracy: 0.4397 - val_loss: 0.0083\n",
      "Epoch 49/100\n",
      "\u001b[1m112/112\u001b[0m \u001b[32m━━━━━━━━━━━━━━━━━━━━\u001b[0m\u001b[37m\u001b[0m \u001b[1m1s\u001b[0m 7ms/step - accuracy: 0.4437 - loss: 0.0082 - val_accuracy: 0.4426 - val_loss: 0.0082\n",
      "Epoch 50/100\n",
      "\u001b[1m112/112\u001b[0m \u001b[32m━━━━━━━━━━━━━━━━━━━━\u001b[0m\u001b[37m\u001b[0m \u001b[1m1s\u001b[0m 7ms/step - accuracy: 0.4468 - loss: 0.0081 - val_accuracy: 0.4424 - val_loss: 0.0081\n",
      "Epoch 51/100\n",
      "\u001b[1m112/112\u001b[0m \u001b[32m━━━━━━━━━━━━━━━━━━━━\u001b[0m\u001b[37m\u001b[0m \u001b[1m1s\u001b[0m 7ms/step - accuracy: 0.4479 - loss: 0.0080 - val_accuracy: 0.4435 - val_loss: 0.0080\n",
      "Epoch 52/100\n",
      "\u001b[1m112/112\u001b[0m \u001b[32m━━━━━━━━━━━━━━━━━━━━\u001b[0m\u001b[37m\u001b[0m \u001b[1m1s\u001b[0m 7ms/step - accuracy: 0.4496 - loss: 0.0079 - val_accuracy: 0.4460 - val_loss: 0.0079\n",
      "Epoch 53/100\n",
      "\u001b[1m112/112\u001b[0m \u001b[32m━━━━━━━━━━━━━━━━━━━━\u001b[0m\u001b[37m\u001b[0m \u001b[1m1s\u001b[0m 7ms/step - accuracy: 0.4508 - loss: 0.0077 - val_accuracy: 0.4457 - val_loss: 0.0078\n",
      "Epoch 54/100\n",
      "\u001b[1m112/112\u001b[0m \u001b[32m━━━━━━━━━━━━━━━━━━━━\u001b[0m\u001b[37m\u001b[0m \u001b[1m1s\u001b[0m 7ms/step - accuracy: 0.4524 - loss: 0.0076 - val_accuracy: 0.4515 - val_loss: 0.0077\n",
      "Epoch 55/100\n",
      "\u001b[1m112/112\u001b[0m \u001b[32m━━━━━━━━━━━━━━━━━━━━\u001b[0m\u001b[37m\u001b[0m \u001b[1m1s\u001b[0m 7ms/step - accuracy: 0.4549 - loss: 0.0075 - val_accuracy: 0.4521 - val_loss: 0.0076\n",
      "Epoch 56/100\n",
      "\u001b[1m112/112\u001b[0m \u001b[32m━━━━━━━━━━━━━━━━━━━━\u001b[0m\u001b[37m\u001b[0m \u001b[1m1s\u001b[0m 7ms/step - accuracy: 0.4556 - loss: 0.0074 - val_accuracy: 0.4507 - val_loss: 0.0075\n",
      "Epoch 57/100\n",
      "\u001b[1m112/112\u001b[0m \u001b[32m━━━━━━━━━━━━━━━━━━━━\u001b[0m\u001b[37m\u001b[0m \u001b[1m1s\u001b[0m 7ms/step - accuracy: 0.4575 - loss: 0.0073 - val_accuracy: 0.4524 - val_loss: 0.0074\n",
      "Epoch 58/100\n",
      "\u001b[1m112/112\u001b[0m \u001b[32m━━━━━━━━━━━━━━━━━━━━\u001b[0m\u001b[37m\u001b[0m \u001b[1m1s\u001b[0m 7ms/step - accuracy: 0.4582 - loss: 0.0072 - val_accuracy: 0.4567 - val_loss: 0.0072\n",
      "Epoch 59/100\n",
      "\u001b[1m112/112\u001b[0m \u001b[32m━━━━━━━━━━━━━━━━━━━━\u001b[0m\u001b[37m\u001b[0m \u001b[1m1s\u001b[0m 7ms/step - accuracy: 0.4589 - loss: 0.0071 - val_accuracy: 0.4576 - val_loss: 0.0071\n",
      "Epoch 60/100\n",
      "\u001b[1m112/112\u001b[0m \u001b[32m━━━━━━━━━━━━━━━━━━━━\u001b[0m\u001b[37m\u001b[0m \u001b[1m1s\u001b[0m 7ms/step - accuracy: 0.4637 - loss: 0.0070 - val_accuracy: 0.4582 - val_loss: 0.0070\n",
      "Epoch 61/100\n",
      "\u001b[1m112/112\u001b[0m \u001b[32m━━━━━━━━━━━━━━━━━━━━\u001b[0m\u001b[37m\u001b[0m \u001b[1m1s\u001b[0m 7ms/step - accuracy: 0.4613 - loss: 0.0068 - val_accuracy: 0.4551 - val_loss: 0.0069\n",
      "Epoch 62/100\n",
      "\u001b[1m112/112\u001b[0m \u001b[32m━━━━━━━━━━━━━━━━━━━━\u001b[0m\u001b[37m\u001b[0m \u001b[1m1s\u001b[0m 7ms/step - accuracy: 0.4622 - loss: 0.0067 - val_accuracy: 0.4629 - val_loss: 0.0068\n",
      "Epoch 63/100\n",
      "\u001b[1m112/112\u001b[0m \u001b[32m━━━━━━━━━━━━━━━━━━━━\u001b[0m\u001b[37m\u001b[0m \u001b[1m1s\u001b[0m 7ms/step - accuracy: 0.4639 - loss: 0.0066 - val_accuracy: 0.4643 - val_loss: 0.0067\n",
      "Epoch 64/100\n",
      "\u001b[1m112/112\u001b[0m \u001b[32m━━━━━━━━━━━━━━━━━━━━\u001b[0m\u001b[37m\u001b[0m \u001b[1m1s\u001b[0m 7ms/step - accuracy: 0.4664 - loss: 0.0065 - val_accuracy: 0.4648 - val_loss: 0.0066\n",
      "Epoch 65/100\n",
      "\u001b[1m112/112\u001b[0m \u001b[32m━━━━━━━━━━━━━━━━━━━━\u001b[0m\u001b[37m\u001b[0m \u001b[1m1s\u001b[0m 7ms/step - accuracy: 0.4668 - loss: 0.0064 - val_accuracy: 0.4623 - val_loss: 0.0064\n",
      "Epoch 66/100\n",
      "\u001b[1m112/112\u001b[0m \u001b[32m━━━━━━━━━━━━━━━━━━━━\u001b[0m\u001b[37m\u001b[0m \u001b[1m1s\u001b[0m 8ms/step - accuracy: 0.4645 - loss: 0.0062 - val_accuracy: 0.4606 - val_loss: 0.0063\n",
      "Epoch 67/100\n",
      "\u001b[1m112/112\u001b[0m \u001b[32m━━━━━━━━━━━━━━━━━━━━\u001b[0m\u001b[37m\u001b[0m \u001b[1m1s\u001b[0m 7ms/step - accuracy: 0.4654 - loss: 0.0061 - val_accuracy: 0.4634 - val_loss: 0.0062\n",
      "Epoch 68/100\n",
      "\u001b[1m112/112\u001b[0m \u001b[32m━━━━━━━━━━━━━━━━━━━━\u001b[0m\u001b[37m\u001b[0m \u001b[1m1s\u001b[0m 7ms/step - accuracy: 0.4682 - loss: 0.0060 - val_accuracy: 0.4643 - val_loss: 0.0061\n",
      "Epoch 69/100\n",
      "\u001b[1m112/112\u001b[0m \u001b[32m━━━━━━━━━━━━━━━━━━━━\u001b[0m\u001b[37m\u001b[0m \u001b[1m1s\u001b[0m 7ms/step - accuracy: 0.4667 - loss: 0.0059 - val_accuracy: 0.4662 - val_loss: 0.0061\n",
      "Epoch 70/100\n",
      "\u001b[1m112/112\u001b[0m \u001b[32m━━━━━━━━━━━━━━━━━━━━\u001b[0m\u001b[37m\u001b[0m \u001b[1m1s\u001b[0m 7ms/step - accuracy: 0.4657 - loss: 0.0058 - val_accuracy: 0.4627 - val_loss: 0.0060\n",
      "Epoch 71/100\n",
      "\u001b[1m112/112\u001b[0m \u001b[32m━━━━━━━━━━━━━━━━━━━━\u001b[0m\u001b[37m\u001b[0m \u001b[1m1s\u001b[0m 7ms/step - accuracy: 0.4685 - loss: 0.0058 - val_accuracy: 0.4653 - val_loss: 0.0059\n",
      "Epoch 72/100\n",
      "\u001b[1m112/112\u001b[0m \u001b[32m━━━━━━━━━━━━━━━━━━━━\u001b[0m\u001b[37m\u001b[0m \u001b[1m1s\u001b[0m 7ms/step - accuracy: 0.4684 - loss: 0.0057 - val_accuracy: 0.4648 - val_loss: 0.0058\n",
      "Epoch 73/100\n",
      "\u001b[1m112/112\u001b[0m \u001b[32m━━━━━━━━━━━━━━━━━━━━\u001b[0m\u001b[37m\u001b[0m \u001b[1m1s\u001b[0m 8ms/step - accuracy: 0.4693 - loss: 0.0056 - val_accuracy: 0.4595 - val_loss: 0.0058\n",
      "Epoch 74/100\n",
      "\u001b[1m112/112\u001b[0m \u001b[32m━━━━━━━━━━━━━━━━━━━━\u001b[0m\u001b[37m\u001b[0m \u001b[1m1s\u001b[0m 7ms/step - accuracy: 0.4672 - loss: 0.0055 - val_accuracy: 0.4648 - val_loss: 0.0057\n",
      "Epoch 75/100\n",
      "\u001b[1m112/112\u001b[0m \u001b[32m━━━━━━━━━━━━━━━━━━━━\u001b[0m\u001b[37m\u001b[0m \u001b[1m1s\u001b[0m 7ms/step - accuracy: 0.4679 - loss: 0.0055 - val_accuracy: 0.4635 - val_loss: 0.0056\n",
      "Epoch 76/100\n",
      "\u001b[1m112/112\u001b[0m \u001b[32m━━━━━━━━━━━━━━━━━━━━\u001b[0m\u001b[37m\u001b[0m \u001b[1m1s\u001b[0m 7ms/step - accuracy: 0.4680 - loss: 0.0054 - val_accuracy: 0.4645 - val_loss: 0.0056\n",
      "Epoch 77/100\n",
      "\u001b[1m112/112\u001b[0m \u001b[32m━━━━━━━━━━━━━━━━━━━━\u001b[0m\u001b[37m\u001b[0m \u001b[1m1s\u001b[0m 7ms/step - accuracy: 0.4677 - loss: 0.0054 - val_accuracy: 0.4675 - val_loss: 0.0055\n",
      "Epoch 78/100\n",
      "\u001b[1m112/112\u001b[0m \u001b[32m━━━━━━━━━━━━━━━━━━━━\u001b[0m\u001b[37m\u001b[0m \u001b[1m1s\u001b[0m 7ms/step - accuracy: 0.4687 - loss: 0.0053 - val_accuracy: 0.4633 - val_loss: 0.0055\n",
      "Epoch 79/100\n",
      "\u001b[1m112/112\u001b[0m \u001b[32m━━━━━━━━━━━━━━━━━━━━\u001b[0m\u001b[37m\u001b[0m \u001b[1m1s\u001b[0m 7ms/step - accuracy: 0.4690 - loss: 0.0053 - val_accuracy: 0.4635 - val_loss: 0.0054\n",
      "Epoch 80/100\n",
      "\u001b[1m112/112\u001b[0m \u001b[32m━━━━━━━━━━━━━━━━━━━━\u001b[0m\u001b[37m\u001b[0m \u001b[1m1s\u001b[0m 7ms/step - accuracy: 0.4670 - loss: 0.0052 - val_accuracy: 0.4612 - val_loss: 0.0054\n",
      "Epoch 81/100\n",
      "\u001b[1m112/112\u001b[0m \u001b[32m━━━━━━━━━━━━━━━━━━━━\u001b[0m\u001b[37m\u001b[0m \u001b[1m1s\u001b[0m 7ms/step - accuracy: 0.4674 - loss: 0.0052 - val_accuracy: 0.4653 - val_loss: 0.0054\n",
      "Epoch 82/100\n",
      "\u001b[1m112/112\u001b[0m \u001b[32m━━━━━━━━━━━━━━━━━━━━\u001b[0m\u001b[37m\u001b[0m \u001b[1m1s\u001b[0m 7ms/step - accuracy: 0.4695 - loss: 0.0051 - val_accuracy: 0.4601 - val_loss: 0.0053\n",
      "Epoch 83/100\n",
      "\u001b[1m112/112\u001b[0m \u001b[32m━━━━━━━━━━━━━━━━━━━━\u001b[0m\u001b[37m\u001b[0m \u001b[1m1s\u001b[0m 7ms/step - accuracy: 0.4672 - loss: 0.0051 - val_accuracy: 0.4673 - val_loss: 0.0053\n",
      "Epoch 84/100\n",
      "\u001b[1m112/112\u001b[0m \u001b[32m━━━━━━━━━━━━━━━━━━━━\u001b[0m\u001b[37m\u001b[0m \u001b[1m1s\u001b[0m 7ms/step - accuracy: 0.4690 - loss: 0.0051 - val_accuracy: 0.4636 - val_loss: 0.0052\n",
      "Epoch 85/100\n",
      "\u001b[1m112/112\u001b[0m \u001b[32m━━━━━━━━━━━━━━━━━━━━\u001b[0m\u001b[37m\u001b[0m \u001b[1m1s\u001b[0m 7ms/step - accuracy: 0.4672 - loss: 0.0050 - val_accuracy: 0.4641 - val_loss: 0.0052\n",
      "Epoch 86/100\n",
      "\u001b[1m112/112\u001b[0m \u001b[32m━━━━━━━━━━━━━━━━━━━━\u001b[0m\u001b[37m\u001b[0m \u001b[1m1s\u001b[0m 7ms/step - accuracy: 0.4687 - loss: 0.0050 - val_accuracy: 0.4625 - val_loss: 0.0052\n",
      "Epoch 87/100\n",
      "\u001b[1m112/112\u001b[0m \u001b[32m━━━━━━━━━━━━━━━━━━━━\u001b[0m\u001b[37m\u001b[0m \u001b[1m1s\u001b[0m 7ms/step - accuracy: 0.4698 - loss: 0.0049 - val_accuracy: 0.4621 - val_loss: 0.0051\n",
      "Epoch 88/100\n",
      "\u001b[1m112/112\u001b[0m \u001b[32m━━━━━━━━━━━━━━━━━━━━\u001b[0m\u001b[37m\u001b[0m \u001b[1m1s\u001b[0m 7ms/step - accuracy: 0.4665 - loss: 0.0049 - val_accuracy: 0.4637 - val_loss: 0.0051\n",
      "Epoch 89/100\n",
      "\u001b[1m112/112\u001b[0m \u001b[32m━━━━━━━━━━━━━━━━━━━━\u001b[0m\u001b[37m\u001b[0m \u001b[1m1s\u001b[0m 7ms/step - accuracy: 0.4693 - loss: 0.0049 - val_accuracy: 0.4661 - val_loss: 0.0051\n",
      "Epoch 90/100\n",
      "\u001b[1m112/112\u001b[0m \u001b[32m━━━━━━━━━━━━━━━━━━━━\u001b[0m\u001b[37m\u001b[0m \u001b[1m1s\u001b[0m 7ms/step - accuracy: 0.4676 - loss: 0.0048 - val_accuracy: 0.4637 - val_loss: 0.0050\n",
      "Epoch 91/100\n",
      "\u001b[1m112/112\u001b[0m \u001b[32m━━━━━━━━━━━━━━━━━━━━\u001b[0m\u001b[37m\u001b[0m \u001b[1m1s\u001b[0m 8ms/step - accuracy: 0.4683 - loss: 0.0048 - val_accuracy: 0.4658 - val_loss: 0.0050\n",
      "Epoch 92/100\n",
      "\u001b[1m112/112\u001b[0m \u001b[32m━━━━━━━━━━━━━━━━━━━━\u001b[0m\u001b[37m\u001b[0m \u001b[1m1s\u001b[0m 7ms/step - accuracy: 0.4700 - loss: 0.0048 - val_accuracy: 0.4609 - val_loss: 0.0050\n",
      "Epoch 93/100\n",
      "\u001b[1m112/112\u001b[0m \u001b[32m━━━━━━━━━━━━━━━━━━━━\u001b[0m\u001b[37m\u001b[0m \u001b[1m1s\u001b[0m 7ms/step - accuracy: 0.4690 - loss: 0.0047 - val_accuracy: 0.4633 - val_loss: 0.0050\n",
      "Epoch 94/100\n",
      "\u001b[1m112/112\u001b[0m \u001b[32m━━━━━━━━━━━━━━━━━━━━\u001b[0m\u001b[37m\u001b[0m \u001b[1m1s\u001b[0m 7ms/step - accuracy: 0.4675 - loss: 0.0047 - val_accuracy: 0.4666 - val_loss: 0.0049\n",
      "Epoch 95/100\n",
      "\u001b[1m112/112\u001b[0m \u001b[32m━━━━━━━━━━━━━━━━━━━━\u001b[0m\u001b[37m\u001b[0m \u001b[1m1s\u001b[0m 7ms/step - accuracy: 0.4675 - loss: 0.0047 - val_accuracy: 0.4648 - val_loss: 0.0049\n",
      "Epoch 96/100\n",
      "\u001b[1m112/112\u001b[0m \u001b[32m━━━━━━━━━━━━━━━━━━━━\u001b[0m\u001b[37m\u001b[0m \u001b[1m1s\u001b[0m 7ms/step - accuracy: 0.4686 - loss: 0.0046 - val_accuracy: 0.4677 - val_loss: 0.0049\n",
      "Epoch 97/100\n",
      "\u001b[1m112/112\u001b[0m \u001b[32m━━━━━━━━━━━━━━━━━━━━\u001b[0m\u001b[37m\u001b[0m \u001b[1m1s\u001b[0m 7ms/step - accuracy: 0.4714 - loss: 0.0046 - val_accuracy: 0.4641 - val_loss: 0.0049\n",
      "Epoch 98/100\n",
      "\u001b[1m112/112\u001b[0m \u001b[32m━━━━━━━━━━━━━━━━━━━━\u001b[0m\u001b[37m\u001b[0m \u001b[1m1s\u001b[0m 7ms/step - accuracy: 0.4691 - loss: 0.0046 - val_accuracy: 0.4668 - val_loss: 0.0048\n",
      "Epoch 99/100\n",
      "\u001b[1m112/112\u001b[0m \u001b[32m━━━━━━━━━━━━━━━━━━━━\u001b[0m\u001b[37m\u001b[0m \u001b[1m1s\u001b[0m 7ms/step - accuracy: 0.4708 - loss: 0.0046 - val_accuracy: 0.4602 - val_loss: 0.0048\n",
      "Epoch 100/100\n",
      "\u001b[1m112/112\u001b[0m \u001b[32m━━━━━━━━━━━━━━━━━━━━\u001b[0m\u001b[37m\u001b[0m \u001b[1m1s\u001b[0m 7ms/step - accuracy: 0.4698 - loss: 0.0046 - val_accuracy: 0.4626 - val_loss: 0.0048\n"
     ]
    }
   ],
   "source": [
    "hist = model.fit(X_train, Y_train,\n",
    "          batch_size=2500, epochs=100,\n",
    "          validation_data=(X_val, Y_val))"
   ]
  },
  {
   "cell_type": "code",
   "execution_count": 35,
   "id": "c10c7151-c256-4b1d-bb56-5ec2363e37b3",
   "metadata": {},
   "outputs": [
    {
     "name": "stdout",
     "output_type": "stream",
     "text": [
      "\u001b[1m1875/1875\u001b[0m \u001b[32m━━━━━━━━━━━━━━━━━━━━\u001b[0m\u001b[37m\u001b[0m \u001b[1m1s\u001b[0m 639us/step - accuracy: 0.0122 - loss: 0.0321\n"
     ]
    },
    {
     "data": {
      "text/plain": [
       "0.012266666628420353"
      ]
     },
     "execution_count": 35,
     "metadata": {},
     "output_type": "execute_result"
    }
   ],
   "source": [
    "model.evaluate(X_test, Y_test)[1]"
   ]
  },
  {
   "cell_type": "code",
   "execution_count": 72,
   "id": "c403498c-b6a7-40f0-ad2f-a713c6289af5",
   "metadata": {},
   "outputs": [
    {
     "name": "stdout",
     "output_type": "stream",
     "text": [
      "\u001b[1m1875/1875\u001b[0m \u001b[32m━━━━━━━━━━━━━━━━━━━━\u001b[0m\u001b[37m\u001b[0m \u001b[1m1s\u001b[0m 489us/step\n"
     ]
    }
   ],
   "source": [
    "predictions = model.predict(X_test)\n"
   ]
  },
  {
   "cell_type": "code",
   "execution_count": 86,
   "id": "23adae64-c87d-43d9-a173-20a7dd44cfe0",
   "metadata": {},
   "outputs": [
    {
     "data": {
      "image/png": "[encoded data removed]",
      "text/plain": [
       "<Figure size 640x480 with 1 Axes>"
      ]
     },
     "metadata": {},
     "output_type": "display_data"
    }
   ],
   "source": [
    "import numpy as np\n",
    "num = 120\n",
    "\n",
    "predict_array = np.array(predictions[num])\n",
    "df = pd.DataFrame({\n",
    "   'predicted': np.round(predict_array),\n",
    "   'test': X_test[num]\n",
    "   # 'expected': Y_test[num],\n",
    "   \n",
    "   })\n",
    "lines = df.plot.line()\n"
   ]
  },
  {
   "cell_type": "markdown",
   "id": "04b6db90-acd4-4877-ae08-a6002a6cadb1",
   "metadata": {},
   "source": [
    "На самом деле если присмотреться то моделька работает и выдает неплохие значения\n",
    "Теперь мы сохраним дамп"
   ]
  },
  {
   "cell_type": "code",
   "execution_count": 75,
   "id": "7ba87856-0a0e-444c-af67-ae70992c468c",
   "metadata": {},
   "outputs": [
    {
     "name": "stdout",
     "output_type": "stream",
     "text": [
      "Saved model to disk\n"
     ]
    }
   ],
   "source": [
    "# serialize model to JSON\n",
    "model_json = model.to_json()\n",
    "with open(\"./data/model.json\", \"w\") as json_file:\n",
    "    json_file.write(model_json)\n",
    "# serialize weights to HDF5\n",
    "model.save_weights(\"./data/model.weights.h5\")\n",
    "print(\"Saved model to disk\")"
   ]
  },
  {
   "cell_type": "markdown",
   "id": "92c86324-5d7e-4e72-981c-e1cb7aa30035",
   "metadata": {},
   "source": [
    "Теперь рекомендую воспользоваться [https://github.com/pplonski/keras2cpp] для того чтобы портировать нейронку в С++"
   ]
  },
  {
   "cell_type": "code",
   "execution_count": null,
   "id": "c3d757bc-da52-4256-96d0-ae75e4423399",
   "metadata": {},
   "outputs": [],
   "source": []
  }
 ],
 "metadata": {
  "kernelspec": {
   "display_name": "Python 3 (ipykernel)",
   "language": "python",
   "name": "python3"
  },
  "language_info": {
   "codemirror_mode": {
    "name": "ipython",
    "version": 3
   },
   "file_extension": ".py",
   "mimetype": "text/x-python",
   "name": "python",
   "nbconvert_exporter": "python",
   "pygments_lexer": "ipython3",
   "version": "3.11.6"
  }
 },
 "nbformat": 4,
 "nbformat_minor": 5
}
