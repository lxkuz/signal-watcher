{
 "cells": [
  {
   "cell_type": "markdown",
   "id": "38cb18c1-c842-4e19-ac3d-3983c0d3621a",
   "metadata": {},
   "source": [
    "Сначала читаем датасет\n",
    "\n"
   ]
  },
  {
   "cell_type": "code",
   "execution_count": 2,
   "id": "39f97c00-7486-4a99-b938-0326b285e999",
   "metadata": {},
   "outputs": [
    {
     "data": {
      "text/html": [
       "<div>\n",
       "<style scoped>\n",
       "    .dataframe tbody tr th:only-of-type {\n",
       "        vertical-align: middle;\n",
       "    }\n",
       "\n",
       "    .dataframe tbody tr th {\n",
       "        vertical-align: top;\n",
       "    }\n",
       "\n",
       "    .dataframe thead th {\n",
       "        text-align: right;\n",
       "    }\n",
       "</style>\n",
       "<table border=\"1\" class=\"dataframe\">\n",
       "  <thead>\n",
       "    <tr style=\"text-align: right;\">\n",
       "      <th></th>\n",
       "      <th>s1</th>\n",
       "      <th>s2</th>\n",
       "      <th>s3</th>\n",
       "      <th>s4</th>\n",
       "      <th>s5</th>\n",
       "      <th>s6</th>\n",
       "      <th>s7</th>\n",
       "      <th>s8</th>\n",
       "      <th>s9</th>\n",
       "      <th>s10</th>\n",
       "      <th>...</th>\n",
       "      <th>spike492</th>\n",
       "      <th>spike493</th>\n",
       "      <th>spike494</th>\n",
       "      <th>spike495</th>\n",
       "      <th>spike496</th>\n",
       "      <th>spike497</th>\n",
       "      <th>spike498</th>\n",
       "      <th>spike499</th>\n",
       "      <th>spike500</th>\n",
       "      <th>no_spike</th>\n",
       "    </tr>\n",
       "  </thead>\n",
       "  <tbody>\n",
       "    <tr>\n",
       "      <th>0</th>\n",
       "      <td>50</td>\n",
       "      <td>50</td>\n",
       "      <td>50</td>\n",
       "      <td>48</td>\n",
       "      <td>48</td>\n",
       "      <td>51</td>\n",
       "      <td>50</td>\n",
       "      <td>51</td>\n",
       "      <td>51</td>\n",
       "      <td>49</td>\n",
       "      <td>...</td>\n",
       "      <td>0</td>\n",
       "      <td>0</td>\n",
       "      <td>0</td>\n",
       "      <td>0</td>\n",
       "      <td>0</td>\n",
       "      <td>0</td>\n",
       "      <td>0</td>\n",
       "      <td>0</td>\n",
       "      <td>0</td>\n",
       "      <td>1</td>\n",
       "    </tr>\n",
       "    <tr>\n",
       "      <th>1</th>\n",
       "      <td>50</td>\n",
       "      <td>50</td>\n",
       "      <td>50</td>\n",
       "      <td>48</td>\n",
       "      <td>48</td>\n",
       "      <td>51</td>\n",
       "      <td>50</td>\n",
       "      <td>51</td>\n",
       "      <td>51</td>\n",
       "      <td>49</td>\n",
       "      <td>...</td>\n",
       "      <td>0</td>\n",
       "      <td>0</td>\n",
       "      <td>0</td>\n",
       "      <td>0</td>\n",
       "      <td>0</td>\n",
       "      <td>0</td>\n",
       "      <td>0</td>\n",
       "      <td>0</td>\n",
       "      <td>0</td>\n",
       "      <td>0</td>\n",
       "    </tr>\n",
       "    <tr>\n",
       "      <th>2</th>\n",
       "      <td>49</td>\n",
       "      <td>46</td>\n",
       "      <td>48</td>\n",
       "      <td>52</td>\n",
       "      <td>51</td>\n",
       "      <td>51</td>\n",
       "      <td>54</td>\n",
       "      <td>53</td>\n",
       "      <td>51</td>\n",
       "      <td>49</td>\n",
       "      <td>...</td>\n",
       "      <td>0</td>\n",
       "      <td>0</td>\n",
       "      <td>0</td>\n",
       "      <td>0</td>\n",
       "      <td>0</td>\n",
       "      <td>0</td>\n",
       "      <td>0</td>\n",
       "      <td>0</td>\n",
       "      <td>0</td>\n",
       "      <td>1</td>\n",
       "    </tr>\n",
       "    <tr>\n",
       "      <th>3</th>\n",
       "      <td>49</td>\n",
       "      <td>46</td>\n",
       "      <td>48</td>\n",
       "      <td>52</td>\n",
       "      <td>51</td>\n",
       "      <td>51</td>\n",
       "      <td>54</td>\n",
       "      <td>53</td>\n",
       "      <td>51</td>\n",
       "      <td>49</td>\n",
       "      <td>...</td>\n",
       "      <td>0</td>\n",
       "      <td>0</td>\n",
       "      <td>0</td>\n",
       "      <td>0</td>\n",
       "      <td>0</td>\n",
       "      <td>0</td>\n",
       "      <td>0</td>\n",
       "      <td>0</td>\n",
       "      <td>0</td>\n",
       "      <td>0</td>\n",
       "    </tr>\n",
       "    <tr>\n",
       "      <th>4</th>\n",
       "      <td>51</td>\n",
       "      <td>52</td>\n",
       "      <td>51</td>\n",
       "      <td>50</td>\n",
       "      <td>55</td>\n",
       "      <td>48</td>\n",
       "      <td>47</td>\n",
       "      <td>53</td>\n",
       "      <td>51</td>\n",
       "      <td>51</td>\n",
       "      <td>...</td>\n",
       "      <td>0</td>\n",
       "      <td>0</td>\n",
       "      <td>0</td>\n",
       "      <td>0</td>\n",
       "      <td>0</td>\n",
       "      <td>0</td>\n",
       "      <td>0</td>\n",
       "      <td>0</td>\n",
       "      <td>0</td>\n",
       "      <td>1</td>\n",
       "    </tr>\n",
       "  </tbody>\n",
       "</table>\n",
       "<p>5 rows × 1001 columns</p>\n",
       "</div>"
      ],
      "text/plain": [
       "   s1  s2  s3  s4  s5  s6  s7  s8  s9  s10  ...  spike492  spike493  spike494  \\\n",
       "0  50  50  50  48  48  51  50  51  51   49  ...         0         0         0   \n",
       "1  50  50  50  48  48  51  50  51  51   49  ...         0         0         0   \n",
       "2  49  46  48  52  51  51  54  53  51   49  ...         0         0         0   \n",
       "3  49  46  48  52  51  51  54  53  51   49  ...         0         0         0   \n",
       "4  51  52  51  50  55  48  47  53  51   51  ...         0         0         0   \n",
       "\n",
       "   spike495  spike496  spike497  spike498  spike499  spike500  no_spike  \n",
       "0         0         0         0         0         0         0         1  \n",
       "1         0         0         0         0         0         0         0  \n",
       "2         0         0         0         0         0         0         1  \n",
       "3         0         0         0         0         0         0         0  \n",
       "4         0         0         0         0         0         0         1  \n",
       "\n",
       "[5 rows x 1001 columns]"
      ]
     },
     "execution_count": 2,
     "metadata": {},
     "output_type": "execute_result"
    }
   ],
   "source": [
    "import pandas as pd\n",
    "lenn = 500\n",
    "df = pd.read_csv('data/signal_100000_500.csv')\n",
    "df.head()"
   ]
  },
  {
   "cell_type": "markdown",
   "id": "fc8e0d12-810d-45a1-8f51-9ead1004d444",
   "metadata": {},
   "source": [
    "Строим график для примера одной из колонок"
   ]
  },
  {
   "cell_type": "code",
   "execution_count": 3,
   "id": "bc4c0a93-cc65-4f69-9537-cacbb2c12b84",
   "metadata": {},
   "outputs": [
    {
     "data": {
      "image/png": "[encoded data removed]",
      "text/plain": [
       "<Figure size 640x480 with 1 Axes>"
      ]
     },
     "metadata": {},
     "output_type": "display_data"
    }
   ],
   "source": [
    "dataset = df.values\n",
    "\n",
    "suka = pd.DataFrame({\n",
    "   'signal': dataset[2][:lenn],\n",
    "   'answers': dataset[2][lenn+1:]\n",
    "   })\n",
    "lines = suka.plot.line()"
   ]
  },
  {
   "cell_type": "code",
   "execution_count": null,
   "id": "648cc9ed-4cd6-4bfe-9ef9-55de7b74a4ee",
   "metadata": {},
   "outputs": [],
   "source": []
  },
  {
   "cell_type": "code",
   "execution_count": 4,
   "id": "897a26e0-8290-458f-8819-86eaf3250b7f",
   "metadata": {},
   "outputs": [
    {
     "name": "stdout",
     "output_type": "stream",
     "text": [
      "[[50 50 50 ... 51 53 51]\n",
      " [50 50 50 ... 63 65 63]\n",
      " [49 46 48 ... 50 50 52]\n",
      " ...\n",
      " [52 48 50 ... 65 64 66]\n",
      " [50 53 51 ... 52 49 52]\n",
      " [50 53 51 ... 64 61 64]]\n"
     ]
    }
   ],
   "source": [
    "X = dataset[:,0:lenn]\n",
    "print(X)"
   ]
  },
  {
   "cell_type": "code",
   "execution_count": 5,
   "id": "512620a9-c3e4-4bad-86e9-636a99e1fc24",
   "metadata": {},
   "outputs": [
    {
     "name": "stdout",
     "output_type": "stream",
     "text": [
      "[[0 0 0 ... 0 0 1]\n",
      " [0 0 0 ... 0 0 0]\n",
      " [0 0 0 ... 0 0 1]\n",
      " ...\n",
      " [0 0 0 ... 0 0 0]\n",
      " [0 0 0 ... 0 0 1]\n",
      " [0 0 0 ... 0 0 0]]\n"
     ]
    }
   ],
   "source": [
    "Y = dataset[:,lenn:]\n",
    "print(Y)"
   ]
  },
  {
   "cell_type": "code",
   "execution_count": 6,
   "id": "5ff28474-ff9c-4091-bfab-be297fabe036",
   "metadata": {},
   "outputs": [],
   "source": [
    "from sklearn import preprocessing"
   ]
  },
  {
   "cell_type": "code",
   "execution_count": 7,
   "id": "7b6171ae-2d67-4001-b613-d35ecf4660e9",
   "metadata": {},
   "outputs": [],
   "source": [
    "min_max_scaler = preprocessing.MinMaxScaler()\n",
    "X_scale = min_max_scaler.fit_transform(X)"
   ]
  },
  {
   "cell_type": "code",
   "execution_count": 8,
   "id": "d0c67780-bdce-496e-abac-1b3ab5543a80",
   "metadata": {},
   "outputs": [
    {
     "data": {
      "text/plain": [
       "array([[0.19047619, 0.19047619, 0.19047619, ..., 0.23809524, 0.33333333,\n",
       "        0.23809524],\n",
       "       [0.19047619, 0.19047619, 0.19047619, ..., 0.80952381, 0.9047619 ,\n",
       "        0.80952381],\n",
       "       [0.14285714, 0.        , 0.0952381 , ..., 0.19047619, 0.19047619,\n",
       "        0.28571429],\n",
       "       ...,\n",
       "       [0.28571429, 0.0952381 , 0.19047619, ..., 0.9047619 , 0.85714286,\n",
       "        0.95238095],\n",
       "       [0.19047619, 0.33333333, 0.23809524, ..., 0.28571429, 0.14285714,\n",
       "        0.28571429],\n",
       "       [0.19047619, 0.33333333, 0.23809524, ..., 0.85714286, 0.71428571,\n",
       "        0.85714286]])"
      ]
     },
     "execution_count": 8,
     "metadata": {},
     "output_type": "execute_result"
    }
   ],
   "source": [
    "X_scale"
   ]
  },
  {
   "cell_type": "code",
   "execution_count": 9,
   "id": "814c50df-a2da-486d-988c-0f9b2d810937",
   "metadata": {},
   "outputs": [],
   "source": [
    "from sklearn.model_selection import train_test_split"
   ]
  },
  {
   "cell_type": "code",
   "execution_count": 10,
   "id": "3d014d70-0ce2-4fba-ad85-6a185809a642",
   "metadata": {},
   "outputs": [],
   "source": [
    "X_train, X_val_and_test, Y_train, Y_val_and_test = train_test_split(X_scale, Y, test_size=0.3)"
   ]
  },
  {
   "cell_type": "code",
   "execution_count": 11,
   "id": "f5320280-6720-481e-b1f0-299441ed7b81",
   "metadata": {},
   "outputs": [
    {
     "name": "stdout",
     "output_type": "stream",
     "text": [
      "(140000, 500) (30000, 500) (30000, 500) (140000, 501) (30000, 501) (30000, 501)\n"
     ]
    }
   ],
   "source": [
    "X_val, X_test, Y_val, Y_test = train_test_split(X_val_and_test, Y_val_and_test, test_size=0.5)\n",
    "print(X_train.shape, X_val.shape, X_test.shape, Y_train.shape, Y_val.shape, Y_test.shape)"
   ]
  },
  {
   "cell_type": "code",
   "execution_count": 12,
   "id": "cac50535-47d3-497e-8821-91c87067e6f9",
   "metadata": {},
   "outputs": [],
   "source": [
    "from keras.models import Sequential\n",
    "from keras.layers import Dense"
   ]
  },
  {
   "cell_type": "code",
   "execution_count": 13,
   "id": "e5669ac8-6176-41a5-844e-caf17790cf0f",
   "metadata": {},
   "outputs": [
    {
     "name": "stderr",
     "output_type": "stream",
     "text": [
      "/opt/conda/lib/python3.11/site-packages/keras/src/layers/core/dense.py:87: UserWarning: Do not pass an `input_shape`/`input_dim` argument to a layer. When using Sequential models, prefer using an `Input(shape)` object as the first layer in the model instead.\n",
      "  super().__init__(activity_regularizer=activity_regularizer, **kwargs)\n"
     ]
    }
   ],
   "source": [
    "model = Sequential([\n",
    "    Dense(lenn, activation='relu', input_shape=(lenn,)),\n",
    "    Dense(lenn, activation='relu'),\n",
    "    Dense(lenn+1, activation='softmax'),\n",
    "])"
   ]
  },
  {
   "cell_type": "code",
   "execution_count": 14,
   "id": "274494d4-e217-4d5b-99ca-4a656636e53d",
   "metadata": {},
   "outputs": [],
   "source": [
    "model.compile(optimizer='adam',\n",
    "              loss='binary_crossentropy',\n",
    "              metrics=['accuracy'])"
   ]
  },
  {
   "cell_type": "markdown",
   "id": "b908f63c-2c31-4cda-9b41-abfbd4098eca",
   "metadata": {},
   "source": [
    "Далее мы тренируем сетку нужно поиграться с размерами бача и чаислом эпох"
   ]
  },
  {
   "cell_type": "code",
   "execution_count": null,
   "id": "412334d4-01e4-40b1-a04a-5835c6177b46",
   "metadata": {
    "scrolled": true
   },
   "outputs": [
    {
     "name": "stdout",
     "output_type": "stream",
     "text": [
      "Epoch 1/20\n",
      "\u001b[1m   7/1400\u001b[0m \u001b[37m━━━━━━━━━━━━━━━━━━━━\u001b[0m \u001b[1m12s\u001b[0m 9ms/step - accuracy: 0.7265 - loss: 0.0023  "
     ]
    },
    {
     "name": "stderr",
     "output_type": "stream",
     "text": [
      "2024-05-14 18:14:39.945665: W external/local_tsl/tsl/framework/cpu_allocator_impl.cc:83] Allocation of 561120000 exceeds 10% of free system memory.\n"
     ]
    },
    {
     "name": "stdout",
     "output_type": "stream",
     "text": [
      "\u001b[1m1400/1400\u001b[0m \u001b[32m━━━━━━━━━━━━━━━━━━━━\u001b[0m\u001b[37m\u001b[0m \u001b[1m12s\u001b[0m 9ms/step - accuracy: 0.7268 - loss: 0.0023 - val_accuracy: 0.7057 - val_loss: 0.0024\n",
      "Epoch 2/20\n",
      "\u001b[1m1400/1400\u001b[0m \u001b[32m━━━━━━━━━━━━━━━━━━━━\u001b[0m\u001b[37m\u001b[0m \u001b[1m12s\u001b[0m 8ms/step - accuracy: 0.7515 - loss: 0.0021 - val_accuracy: 0.7099 - val_loss: 0.0023\n",
      "Epoch 3/20\n",
      "\u001b[1m1400/1400\u001b[0m \u001b[32m━━━━━━━━━━━━━━━━━━━━\u001b[0m\u001b[37m\u001b[0m \u001b[1m12s\u001b[0m 8ms/step - accuracy: 0.7752 - loss: 0.0020 - val_accuracy: 0.7304 - val_loss: 0.0022\n",
      "Epoch 4/20\n",
      "\u001b[1m1400/1400\u001b[0m \u001b[32m━━━━━━━━━━━━━━━━━━━━\u001b[0m\u001b[37m\u001b[0m \u001b[1m12s\u001b[0m 8ms/step - accuracy: 0.7940 - loss: 0.0019 - val_accuracy: 0.7382 - val_loss: 0.0022\n",
      "Epoch 5/20\n",
      "\u001b[1m1400/1400\u001b[0m \u001b[32m━━━━━━━━━━━━━━━━━━━━\u001b[0m\u001b[37m\u001b[0m \u001b[1m12s\u001b[0m 8ms/step - accuracy: 0.8115 - loss: 0.0018 - val_accuracy: 0.7549 - val_loss: 0.0021\n",
      "Epoch 6/20\n",
      "\u001b[1m1400/1400\u001b[0m \u001b[32m━━━━━━━━━━━━━━━━━━━━\u001b[0m\u001b[37m\u001b[0m \u001b[1m12s\u001b[0m 8ms/step - accuracy: 0.8261 - loss: 0.0017 - val_accuracy: 0.7648 - val_loss: 0.0020\n",
      "Epoch 7/20\n",
      "\u001b[1m1400/1400\u001b[0m \u001b[32m━━━━━━━━━━━━━━━━━━━━\u001b[0m\u001b[37m\u001b[0m \u001b[1m12s\u001b[0m 8ms/step - accuracy: 0.8391 - loss: 0.0016 - val_accuracy: 0.7674 - val_loss: 0.0021\n",
      "Epoch 8/20\n",
      "\u001b[1m1400/1400\u001b[0m \u001b[32m━━━━━━━━━━━━━━━━━━━━\u001b[0m\u001b[37m\u001b[0m \u001b[1m12s\u001b[0m 8ms/step - accuracy: 0.8502 - loss: 0.0015 - val_accuracy: 0.7788 - val_loss: 0.0020\n",
      "Epoch 9/20\n",
      "\u001b[1m1400/1400\u001b[0m \u001b[32m━━━━━━━━━━━━━━━━━━━━\u001b[0m\u001b[37m\u001b[0m \u001b[1m12s\u001b[0m 8ms/step - accuracy: 0.8632 - loss: 0.0014 - val_accuracy: 0.7838 - val_loss: 0.0019\n",
      "Epoch 10/20\n",
      "\u001b[1m1400/1400\u001b[0m \u001b[32m━━━━━━━━━━━━━━━━━━━━\u001b[0m\u001b[37m\u001b[0m \u001b[1m12s\u001b[0m 8ms/step - accuracy: 0.8714 - loss: 0.0014 - val_accuracy: 0.7856 - val_loss: 0.0020\n",
      "Epoch 11/20\n",
      "\u001b[1m1400/1400\u001b[0m \u001b[32m━━━━━━━━━━━━━━━━━━━━\u001b[0m\u001b[37m\u001b[0m \u001b[1m12s\u001b[0m 9ms/step - accuracy: 0.8803 - loss: 0.0013 - val_accuracy: 0.7876 - val_loss: 0.0020\n",
      "Epoch 12/20\n",
      "\u001b[1m1400/1400\u001b[0m \u001b[32m━━━━━━━━━━━━━━━━━━━━\u001b[0m\u001b[37m\u001b[0m \u001b[1m12s\u001b[0m 8ms/step - accuracy: 0.8889 - loss: 0.0012 - val_accuracy: 0.7819 - val_loss: 0.0021\n",
      "Epoch 13/20\n",
      "\u001b[1m1400/1400\u001b[0m \u001b[32m━━━━━━━━━━━━━━━━━━━━\u001b[0m\u001b[37m\u001b[0m \u001b[1m12s\u001b[0m 8ms/step - accuracy: 0.8935 - loss: 0.0012 - val_accuracy: 0.7961 - val_loss: 0.0019\n",
      "Epoch 14/20\n",
      "\u001b[1m1400/1400\u001b[0m \u001b[32m━━━━━━━━━━━━━━━━━━━━\u001b[0m\u001b[37m\u001b[0m \u001b[1m12s\u001b[0m 8ms/step - accuracy: 0.9036 - loss: 0.0011 - val_accuracy: 0.8012 - val_loss: 0.0019\n",
      "Epoch 15/20\n",
      "\u001b[1m1400/1400\u001b[0m \u001b[32m━━━━━━━━━━━━━━━━━━━━\u001b[0m\u001b[37m\u001b[0m \u001b[1m12s\u001b[0m 8ms/step - accuracy: 0.9095 - loss: 0.0011 - val_accuracy: 0.7940 - val_loss: 0.0020\n",
      "Epoch 16/20\n",
      "\u001b[1m1400/1400\u001b[0m \u001b[32m━━━━━━━━━━━━━━━━━━━━\u001b[0m\u001b[37m\u001b[0m \u001b[1m12s\u001b[0m 8ms/step - accuracy: 0.9131 - loss: 0.0010 - val_accuracy: 0.8035 - val_loss: 0.0020\n",
      "Epoch 17/20\n",
      "\u001b[1m1400/1400\u001b[0m \u001b[32m━━━━━━━━━━━━━━━━━━━━\u001b[0m\u001b[37m\u001b[0m \u001b[1m12s\u001b[0m 8ms/step - accuracy: 0.9207 - loss: 9.8349e-04 - val_accuracy: 0.8057 - val_loss: 0.0020\n",
      "Epoch 18/20\n",
      "\u001b[1m1400/1400\u001b[0m \u001b[32m━━━━━━━━━━━━━━━━━━━━\u001b[0m\u001b[37m\u001b[0m \u001b[1m12s\u001b[0m 8ms/step - accuracy: 0.9235 - loss: 9.4486e-04 - val_accuracy: 0.8047 - val_loss: 0.0021\n",
      "Epoch 19/20\n",
      "\u001b[1m1400/1400\u001b[0m \u001b[32m━━━━━━━━━━━━━━━━━━━━\u001b[0m\u001b[37m\u001b[0m \u001b[1m12s\u001b[0m 8ms/step - accuracy: 0.9287 - loss: 9.0001e-04 - val_accuracy: 0.8066 - val_loss: 0.0020\n",
      "Epoch 20/20\n",
      "\u001b[1m1164/1400\u001b[0m \u001b[32m━━━━━━━━━━━━━━━━\u001b[0m\u001b[37m━━━━\u001b[0m \u001b[1m1s\u001b[0m 8ms/step - accuracy: 0.9339 - loss: 8.5421e-04"
     ]
    }
   ],
   "source": [
    "hist = model.fit(X_train, Y_train,\n",
    "          batch_size=100, epochs=20,\n",
    "          validation_data=(X_val, Y_val))"
   ]
  },
  {
   "cell_type": "code",
   "execution_count": 1,
   "id": "c10c7151-c256-4b1d-bb56-5ec2363e37b3",
   "metadata": {},
   "outputs": [
    {
     "ename": "NameError",
     "evalue": "name 'model' is not defined",
     "output_type": "error",
     "traceback": [
      "\u001b[0;31m---------------------------------------------------------------------------\u001b[0m",
      "\u001b[0;31mNameError\u001b[0m                                 Traceback (most recent call last)",
      "Cell \u001b[0;32mIn[1], line 1\u001b[0m\n\u001b[0;32m----> 1\u001b[0m \u001b[43mmodel\u001b[49m\u001b[38;5;241m.\u001b[39mevaluate(X_test, Y_test)[\u001b[38;5;241m1\u001b[39m]\n",
      "\u001b[0;31mNameError\u001b[0m: name 'model' is not defined"
     ]
    }
   ],
   "source": [
    "model.evaluate(X_test, Y_test)[1]"
   ]
  },
  {
   "cell_type": "code",
   "execution_count": 84,
   "id": "45958e3f-c46b-40b5-a9a7-2115a4a8151b",
   "metadata": {},
   "outputs": [
    {
     "data": {
      "text/plain": [
       "array([[0, 0, 0, ..., 0, 0, 1],\n",
       "       [0, 0, 0, ..., 0, 0, 1],\n",
       "       [0, 0, 0, ..., 0, 0, 1],\n",
       "       ...,\n",
       "       [0, 0, 0, ..., 0, 0, 1],\n",
       "       [0, 0, 0, ..., 0, 0, 0],\n",
       "       [0, 0, 0, ..., 0, 0, 0]])"
      ]
     },
     "execution_count": 84,
     "metadata": {},
     "output_type": "execute_result"
    }
   ],
   "source": [
    "Y_test"
   ]
  },
  {
   "cell_type": "code",
   "execution_count": 85,
   "id": "c403498c-b6a7-40f0-ad2f-a713c6289af5",
   "metadata": {},
   "outputs": [
    {
     "name": "stdout",
     "output_type": "stream",
     "text": [
      "\u001b[1m1875/1875\u001b[0m \u001b[32m━━━━━━━━━━━━━━━━━━━━\u001b[0m\u001b[37m\u001b[0m \u001b[1m1s\u001b[0m 579us/step\n"
     ]
    }
   ],
   "source": [
    "predictions = model.predict(X_test)\n"
   ]
  },
  {
   "cell_type": "code",
   "execution_count": 117,
   "id": "a9459677-5ef3-4043-b446-4e1fc6646e05",
   "metadata": {},
   "outputs": [
    {
     "name": "stdout",
     "output_type": "stream",
     "text": [
      "8.974844525910167e-36\n"
     ]
    }
   ],
   "source": [
    "i = 0\n",
    "arr = []\n",
    "for x in Y_test:\n",
    "  arr.append([abs(x - predictions[i]), i])\n",
    "  i += 1\n",
    "\n",
    "sorted_arr = sorted(arr, key=lambda x: sum(x[0]))\n",
    "print(sum(sorted_arr[0][0]))\n",
    "\n",
    "\n",
    "# suka = pd.DataFrame({\n",
    "#    # 'signal': dataset[2][:100],\n",
    "#    'vals': np.max(np.abs(Y_test - predictions), axis=1)\n",
    "#    })\n",
    "# lines = suka.plot.line()"
   ]
  },
  {
   "cell_type": "code",
   "execution_count": 115,
   "id": "23adae64-c87d-43d9-a173-20a7dd44cfe0",
   "metadata": {},
   "outputs": [
    {
     "data": {
      "image/png": "[encoded data removed]",
      "text/plain": [
       "<Figure size 640x480 with 1 Axes>"
      ]
     },
     "metadata": {},
     "output_type": "display_data"
    }
   ],
   "source": [
    "import numpy as np\n",
    "num = 26265\n",
    "\n",
    "predict_array = np.array(predictions[num])\n",
    "df = pd.DataFrame({\n",
    "   'predicted': predict_array,\n",
    "   'test': np.append(X_test[num], [0.0])\n",
    "   \n",
    "   })\n",
    "lines = df.plot.line()\n"
   ]
  },
  {
   "cell_type": "markdown",
   "id": "04b6db90-acd4-4877-ae08-a6002a6cadb1",
   "metadata": {},
   "source": [
    "На самом деле если присмотреться то моделька работает и выдает неплохие значения\n",
    "Теперь мы сохраним дамп"
   ]
  },
  {
   "cell_type": "code",
   "execution_count": 40,
   "id": "7ba87856-0a0e-444c-af67-ae70992c468c",
   "metadata": {},
   "outputs": [
    {
     "name": "stdout",
     "output_type": "stream",
     "text": [
      "Saved model to disk\n"
     ]
    }
   ],
   "source": [
    "# serialize model to JSON\n",
    "model_json = model.to_json()\n",
    "with open(\"./data/model.json\", \"w\") as json_file:\n",
    "    json_file.write(model_json)\n",
    "# serialize weights to HDF5\n",
    "model.save_weights(\"./data/model.weights.h5\")\n",
    "print(\"Saved model to disk\")"
   ]
  },
  {
   "cell_type": "markdown",
   "id": "92c86324-5d7e-4e72-981c-e1cb7aa30035",
   "metadata": {},
   "source": [
    "Теперь рекомендую воспользоваться [https://github.com/pplonski/keras2cpp] для того чтобы портировать нейронку в С++"
   ]
  },
  {
   "cell_type": "code",
   "execution_count": null,
   "id": "c3d757bc-da52-4256-96d0-ae75e4423399",
   "metadata": {},
   "outputs": [],
   "source": []
  }
 ],
 "metadata": {
  "kernelspec": {
   "display_name": "Python 3 (ipykernel)",
   "language": "python",
   "name": "python3"
  },
  "language_info": {
   "codemirror_mode": {
    "name": "ipython",
    "version": 3
   },
   "file_extension": ".py",
   "mimetype": "text/x-python",
   "name": "python",
   "nbconvert_exporter": "python",
   "pygments_lexer": "ipython3",
   "version": "3.11.6"
  }
 },
 "nbformat": 4,
 "nbformat_minor": 5
}
